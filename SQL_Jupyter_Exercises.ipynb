{
 "cells": [
  {
   "cell_type": "code",
   "execution_count": 2,
   "id": "aedc1d64-82c3-4a6b-817e-ee577109bac7",
   "metadata": {},
   "outputs": [],
   "source": [
    "import sqlite3\n",
    "import pandas as pd"
   ]
  },
  {
   "cell_type": "code",
   "execution_count": 3,
   "id": "1c4fdbfa-5a85-4975-bb78-2705cfacc13f",
   "metadata": {},
   "outputs": [
    {
     "name": "stdout",
     "output_type": "stream",
     "text": [
      "به پایگاه داده متصل شدیم!\n"
     ]
    }
   ],
   "source": [
    "# 'mydatabase.db' نام فایل پایگاه داده ماست. می‌تونه هر چیزی باشه.\n",
    "conn = sqlite3.connect('mydatabase.db')\n",
    "\n",
    "# یک شیء 'cursor' ایجاد می‌کنیم که برای اجرای دستورات SQL استفاده میشه.\n",
    "cursor = conn.cursor()\n",
    "\n",
    "print(\"به پایگاه داده متصل شدیم!\")"
   ]
  },
  {
   "cell_type": "code",
   "execution_count": 4,
   "id": "96ecbebf-369b-45be-9e9b-b35c5c1b7615",
   "metadata": {},
   "outputs": [
    {
     "name": "stdout",
     "output_type": "stream",
     "text": [
      "جدول‌ها ایجاد شدند (اگر وجود نداشتند).\n"
     ]
    }
   ],
   "source": [
    "# جدول Customers\n",
    "cursor.execute('''\n",
    "CREATE TABLE IF NOT EXISTS Customers (\n",
    "    CustomerID INTEGER PRIMARY KEY,\n",
    "    FirstName VARCHAR(50),\n",
    "    LastName VARCHAR(50),\n",
    "    Email VARCHAR(100),\n",
    "    City VARCHAR(50),\n",
    "    Country VARCHAR(50),\n",
    "    RegistrationDate DATE\n",
    ");\n",
    "''')\n",
    "\n",
    "# جدول Products\n",
    "cursor.execute('''\n",
    "CREATE TABLE IF NOT EXISTS Products (\n",
    "    ProductID INTEGER PRIMARY KEY,\n",
    "    ProductName VARCHAR(100),\n",
    "    Category VARCHAR(50),\n",
    "    UnitPrice DECIMAL(10, 2),\n",
    "    UnitsInStock INTEGER\n",
    ");\n",
    "''')\n",
    "\n",
    "# جدول Orders\n",
    "cursor.execute('''\n",
    "CREATE TABLE IF NOT EXISTS Orders (\n",
    "    OrderID INTEGER PRIMARY KEY,\n",
    "    CustomerID INTEGER,\n",
    "    OrderDate DATE,\n",
    "    TotalAmount DECIMAL(10, 2),\n",
    "    FOREIGN KEY (CustomerID) REFERENCES Customers(CustomerID)\n",
    ");\n",
    "''')\n",
    "\n",
    "# جدول OrderDetails\n",
    "cursor.execute('''\n",
    "CREATE TABLE IF NOT EXISTS OrderDetails (\n",
    "    OrderDetailID INTEGER PRIMARY KEY,\n",
    "    OrderID INTEGER,\n",
    "    ProductID INTEGER,\n",
    "    Quantity INTEGER,\n",
    "    ItemPrice DECIMAL(10, 2),\n",
    "    FOREIGN KEY (OrderID) REFERENCES Orders(OrderID),\n",
    "    FOREIGN KEY (ProductID) REFERENCES Products(ProductID)\n",
    ");\n",
    "''')\n",
    "\n",
    "conn.commit() # تغییرات رو ذخیره کن\n",
    "print(\"جدول‌ها ایجاد شدند (اگر وجود نداشتند).\")"
   ]
  },
  {
   "cell_type": "code",
   "execution_count": 5,
   "id": "a29bba52-b87e-452c-b0c2-4274f56d06b1",
   "metadata": {},
   "outputs": [
    {
     "name": "stdout",
     "output_type": "stream",
     "text": [
      "داده‌های نمونه وارد شدند (اگر وجود نداشتند).\n"
     ]
    }
   ],
   "source": [
    "# وارد کردن داده‌ها به Customers\n",
    "customers_data = [\n",
    "    (1, 'علی', 'احمدی', 'ali@example.com', 'تهران', 'ایران', '2023-01-15'),\n",
    "    (2, 'سارا', 'محمدی', 'sara@example.com', 'اصفهان', 'ایران', '2023-02-20'),\n",
    "    (3, 'جان', 'اسمیت', 'john@example.com', 'New York', 'USA', '2022-11-10'),\n",
    "    (4, 'مریم', 'حسینی', 'maryam@example.com', 'تهران', 'ایران', '2024-03-01'),\n",
    "    (5, 'لیلا', 'کریمی', None, 'شیراز', 'ایران', '2023-07-22'),\n",
    "    (6, 'پاول', 'نیکولاس', 'paul@example.com', 'Berlin', 'Germany', '2023-04-05')\n",
    "]\n",
    "cursor.executemany(\"INSERT OR IGNORE INTO Customers VALUES (?, ?, ?, ?, ?, ?, ?)\", customers_data) # IGNORE برای جلوگیری از خطای تکراری بودن PK\n",
    "\n",
    "# وارد کردن داده‌ها به Products\n",
    "products_data = [\n",
    "    (101, 'لپ تاپ', 'الکترونیک', 1200.00, 50),\n",
    "    (102, 'گوشی موبایل', 'الکترونیک', 800.00, 120),\n",
    "    (103, 'تی‌شرت', 'لباس', 25.00, 300),\n",
    "    (104, 'کتاب داستان', 'کتاب', 15.50, 500),\n",
    "    (105, 'هدفون بی‌سیم', 'الکترونیک', 150.00, 80),\n",
    "    (106, 'شلوار جین', 'لباس', 60.00, 150)\n",
    "]\n",
    "cursor.executemany(\"INSERT OR IGNORE INTO Products VALUES (?, ?, ?, ?, ?)\", products_data)\n",
    "\n",
    "# وارد کردن داده‌ها به Orders\n",
    "orders_data = [\n",
    "    (1001, 1, '2024-01-20', 1225.00),\n",
    "    (1002, 3, '2024-01-25', 800.00),\n",
    "    (1003, 1, '2024-02-10', 150.00),\n",
    "    (1004, 4, '2024-03-05', 25.00),\n",
    "    (1005, 2, '2024-04-12', 1200.00),\n",
    "    (1006, 6, '2024-05-01', 60.00),\n",
    "    (1007, 4, '2024-06-15', 800.00),\n",
    "    (1008, 5, '2024-06-20', 15.50)\n",
    "]\n",
    "cursor.executemany(\"INSERT OR IGNORE INTO Orders VALUES (?, ?, ?, ?)\", orders_data)\n",
    "\n",
    "# وارد کردن داده‌ها به OrderDetails\n",
    "order_details_data = [\n",
    "    (1, 1001, 101, 1, 1200.00),\n",
    "    (2, 1001, 103, 1, 25.00),\n",
    "    (3, 1002, 102, 1, 800.00),\n",
    "    (4, 1003, 105, 1, 150.00),\n",
    "    (5, 1004, 103, 1, 25.00),\n",
    "    (6, 1005, 101, 1, 1200.00),\n",
    "    (7, 1006, 106, 1, 60.00),\n",
    "    (8, 1007, 102, 1, 800.00),\n",
    "    (9, 1008, 104, 1, 15.50)\n",
    "]\n",
    "cursor.executemany(\"INSERT OR IGNORE INTO OrderDetails VALUES (?, ?, ?, ?, ?)\", order_details_data)\n",
    "\n",
    "conn.commit()\n",
    "print(\"داده‌های نمونه وارد شدند (اگر وجود نداشتند).\")"
   ]
  },
  {
   "cell_type": "code",
   "execution_count": 6,
   "id": "c7e0928e-f4d4-46e4-a1ea-ee4ee8cc2750",
   "metadata": {},
   "outputs": [
    {
     "name": "stdout",
     "output_type": "stream",
     "text": [
      "تمام مشتریان:\n",
      "   CustomerID FirstName LastName               Email      City  Country  \\\n",
      "0           1       علی    احمدی     ali@example.com     تهران    ایران   \n",
      "1           2      سارا    محمدی    sara@example.com    اصفهان    ایران   \n",
      "2           3       جان    اسمیت    john@example.com  New York      USA   \n",
      "3           4      مریم    حسینی  maryam@example.com     تهران    ایران   \n",
      "4           5      لیلا    کریمی                None     شیراز    ایران   \n",
      "5           6      پاول  نیکولاس    paul@example.com    Berlin  Germany   \n",
      "\n",
      "  RegistrationDate  \n",
      "0       2023-01-15  \n",
      "1       2023-02-20  \n",
      "2       2022-11-10  \n",
      "3       2024-03-01  \n",
      "4       2023-07-22  \n",
      "5       2023-04-05  \n",
      "------------------------------\n"
     ]
    }
   ],
   "source": [
    "# مثال 1: تمام مشتریان رو انتخاب کن\n",
    "query1 = \"SELECT * FROM Customers;\"\n",
    "df_customers = pd.read_sql_query(query1, conn)\n",
    "print(\"تمام مشتریان:\")\n",
    "print(df_customers)\n",
    "print(\"-\" * 30)"
   ]
  },
  {
   "cell_type": "code",
   "execution_count": 7,
   "id": "9ecb6d29-ab43-4e86-87e1-2c4691638be6",
   "metadata": {},
   "outputs": [
    {
     "name": "stdout",
     "output_type": "stream",
     "text": [
      "محصولات الکترونیک:\n",
      "    ProductName  UnitPrice\n",
      "0        لپ تاپ       1200\n",
      "1   گوشی موبایل        800\n",
      "2  هدفون بی‌سیم        150\n",
      "------------------------------\n"
     ]
    }
   ],
   "source": [
    "# مثال 2: محصولات الکترونیک\n",
    "query2 = \"SELECT ProductName, UnitPrice FROM Products WHERE Category = 'الکترونیک';\"\n",
    "df_electronics = pd.read_sql_query(query2, conn)\n",
    "print(\"محصولات الکترونیک:\")\n",
    "print(df_electronics)\n",
    "print(\"-\" * 30)"
   ]
  },
  {
   "cell_type": "code",
   "execution_count": 8,
   "id": "03839917-18e2-47dc-89d3-1aecd13b8483",
   "metadata": {},
   "outputs": [
    {
     "name": "stdout",
     "output_type": "stream",
     "text": [
      "سفارشات با نام مشتری:\n",
      "   OrderID CustomerFullName   OrderDate  TotalAmount\n",
      "0     1001        علی احمدی  2024-01-20       1225.0\n",
      "1     1002        جان اسمیت  2024-01-25        800.0\n",
      "2     1003        علی احمدی  2024-02-10        150.0\n",
      "3     1004       مریم حسینی  2024-03-05         25.0\n",
      "4     1005       سارا محمدی  2024-04-12       1200.0\n",
      "5     1006     پاول نیکولاس  2024-05-01         60.0\n",
      "6     1007       مریم حسینی  2024-06-15        800.0\n",
      "7     1008       لیلا کریمی  2024-06-20         15.5\n",
      "------------------------------\n"
     ]
    }
   ],
   "source": [
    "# مثال 3: جوین ساده - سفارشات همراه با نام مشتری\n",
    "query3 = \"\"\"\n",
    "SELECT\n",
    "    o.OrderID,\n",
    "    c.FirstName || ' ' || c.LastName AS CustomerFullName, -- ترکیب نام و نام خانوادگی\n",
    "    o.OrderDate,\n",
    "    o.TotalAmount\n",
    "FROM Orders AS o\n",
    "INNER JOIN Customers AS c ON o.CustomerID = c.CustomerID;\n",
    "\"\"\"\n",
    "df_orders_customers = pd.read_sql_query(query3, conn)\n",
    "print(\"سفارشات با نام مشتری:\")\n",
    "print(df_orders_customers)\n",
    "print(\"-\" * 30)"
   ]
  },
  {
   "cell_type": "code",
   "execution_count": 9,
   "id": "09cf4131-00e1-4522-afde-cb4a6971bd97",
   "metadata": {},
   "outputs": [
    {
     "name": "stdout",
     "output_type": "stream",
     "text": [
      "شهرهایی با بیش از یک مشتری:\n",
      "    City  NumberOfCustomers\n",
      "0  تهران                  2\n",
      "------------------------------\n"
     ]
    }
   ],
   "source": [
    "\n",
    "# مثال 4: استفاده از GROUP BY و HAVING\n",
    "query4 = \"\"\"\n",
    "SELECT\n",
    "    c.City,\n",
    "    COUNT(c.CustomerID) AS NumberOfCustomers\n",
    "FROM Customers AS c\n",
    "GROUP BY c.City\n",
    "HAVING COUNT(c.CustomerID) > 1; -- شهرهایی با بیش از 1 مشتری\n",
    "\"\"\"\n",
    "df_city_counts = pd.read_sql_query(query4, conn)\n",
    "print(\"شهرهایی با بیش از یک مشتری:\")\n",
    "print(df_city_counts)\n",
    "print(\"-\" * 30)"
   ]
  },
  {
   "cell_type": "markdown",
   "id": "1dec5e6a-2b43-4b9d-b90a-073cb6c1bbac",
   "metadata": {},
   "source": [
    "# مسئله شماره ۱: لیست کامل مشتریان\n",
    "## صورت مسئله:\n",
    "### یک لیست از نام و نام خانوادگی کامل مشتریان رو همراه با شهر و کشور اون‌ها به دست بیارید. لیست نهایی باید بر اساس کشور (صعودی) و سپس نام خانوادگی (صعودی) مرتب شده باشه."
   ]
  },
  {
   "cell_type": "code",
   "execution_count": 10,
   "id": "1235c89e-f787-4acb-b380-187541919ec8",
   "metadata": {},
   "outputs": [
    {
     "name": "stdout",
     "output_type": "stream",
     "text": [
      "   Country      City LastName FirstName      FullName\n",
      "0  Germany    Berlin  نیکولاس      پاول  پاول نیکولاس\n",
      "1      USA  New York    اسمیت       جان     جان اسمیت\n",
      "2    ایران     تهران    احمدی       علی     علی احمدی\n",
      "3    ایران     تهران    حسینی      مریم    مریم حسینی\n",
      "4    ایران    اصفهان    محمدی      سارا    سارا محمدی\n",
      "5    ایران     شیراز    کریمی      لیلا    لیلا کریمی\n"
     ]
    }
   ],
   "source": [
    "question1 = '''\n",
    "select \n",
    "    Country , \n",
    "    City,\n",
    "    LastName,\n",
    "    FirstName,\n",
    "    FirstName || ' ' || LastName as FullName\n",
    "from customers\n",
    "order by\n",
    "    Country asc,\n",
    "    LastName asc\n",
    "'''\n",
    "df_customers = pd.read_sql_query(question1 , conn)\n",
    "print(df_customers)\n"
   ]
  },
  {
   "cell_type": "markdown",
   "id": "0e1e94b3-54f7-4573-8c72-cec5b4b9a4ac",
   "metadata": {},
   "source": [
    "# مسئله شماره ۲: محصولات الکترونیک\n",
    "## صورت مسئله:\n",
    "### نام محصولات الکترونیک (Category = 'الکترونیک') رو به همراه قیمت واحد اون‌ها به دست بیارید. لیست نهایی باید بر اساس گران‌ترین محصول (قیمت بالا به پایین) مرتب شده باشه."
   ]
  },
  {
   "cell_type": "code",
   "execution_count": 14,
   "id": "ce996b85-36bb-4f40-97f4-6d20d3111d9c",
   "metadata": {},
   "outputs": [
    {
     "name": "stdout",
     "output_type": "stream",
     "text": [
      "    Category  UnitPrice   ProductName\n",
      "0  الکترونیک       1200        لپ تاپ\n",
      "1  الکترونیک        800   گوشی موبایل\n",
      "2  الکترونیک        150  هدفون بی‌سیم\n"
     ]
    }
   ],
   "source": [
    "question2 = '''\n",
    "select \n",
    "    Category,\n",
    "    UnitPrice,\n",
    "    ProductName\n",
    "from Products\n",
    "where category = 'الکترونیک'\n",
    "order by UnitPrice desc;'''\n",
    "df_category = pd.read_sql_query(question2 , conn)\n",
    "print(df_category)"
   ]
  },
  {
   "cell_type": "code",
   "execution_count": null,
   "id": "de23b340-fd75-451f-bbff-c351947df13d",
   "metadata": {},
   "outputs": [],
   "source": []
  }
 ],
 "metadata": {
  "kernelspec": {
   "display_name": "Python 3 (ipykernel)",
   "language": "python",
   "name": "python3"
  },
  "language_info": {
   "codemirror_mode": {
    "name": "ipython",
    "version": 3
   },
   "file_extension": ".py",
   "mimetype": "text/x-python",
   "name": "python",
   "nbconvert_exporter": "python",
   "pygments_lexer": "ipython3",
   "version": "3.13.1"
  }
 },
 "nbformat": 4,
 "nbformat_minor": 5
}
