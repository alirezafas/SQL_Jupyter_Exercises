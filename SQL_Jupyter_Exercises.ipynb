{
 "cells": [
  {
   "cell_type": "code",
   "execution_count": 25,
   "id": "aedc1d64-82c3-4a6b-817e-ee577109bac7",
   "metadata": {},
   "outputs": [],
   "source": [
    "import sqlite3\n",
    "import pandas as pd"
   ]
  },
  {
   "cell_type": "code",
   "execution_count": 26,
   "id": "1c4fdbfa-5a85-4975-bb78-2705cfacc13f",
   "metadata": {},
   "outputs": [
    {
     "name": "stdout",
     "output_type": "stream",
     "text": [
      "به پایگاه داده متصل شدیم!\n"
     ]
    }
   ],
   "source": [
    "# 'mydatabase.db' نام فایل پایگاه داده ماست. می‌تونه هر چیزی باشه.\n",
    "conn = sqlite3.connect('mydatabase.db')\n",
    "\n",
    "# یک شیء 'cursor' ایجاد می‌کنیم که برای اجرای دستورات SQL استفاده میشه.\n",
    "cursor = conn.cursor()\n",
    "\n",
    "print(\"به پایگاه داده متصل شدیم!\")"
   ]
  },
  {
   "cell_type": "code",
   "execution_count": 27,
   "id": "96ecbebf-369b-45be-9e9b-b35c5c1b7615",
   "metadata": {},
   "outputs": [
    {
     "name": "stdout",
     "output_type": "stream",
     "text": [
      "جدول‌ها ایجاد شدند (اگر وجود نداشتند).\n"
     ]
    }
   ],
   "source": [
    "# جدول Customers\n",
    "cursor.execute('''\n",
    "CREATE TABLE IF NOT EXISTS Customers (\n",
    "    CustomerID INTEGER PRIMARY KEY,\n",
    "    FirstName VARCHAR(50),\n",
    "    LastName VARCHAR(50),\n",
    "    Email VARCHAR(100),\n",
    "    City VARCHAR(50),\n",
    "    Country VARCHAR(50),\n",
    "    RegistrationDate DATE\n",
    ");\n",
    "''')\n",
    "\n",
    "# جدول Products\n",
    "cursor.execute('''\n",
    "CREATE TABLE IF NOT EXISTS Products (\n",
    "    ProductID INTEGER PRIMARY KEY,\n",
    "    ProductName VARCHAR(100),\n",
    "    Category VARCHAR(50),\n",
    "    UnitPrice DECIMAL(10, 2),\n",
    "    UnitsInStock INTEGER\n",
    ");\n",
    "''')\n",
    "\n",
    "# جدول Orders\n",
    "cursor.execute('''\n",
    "CREATE TABLE IF NOT EXISTS Orders (\n",
    "    OrderID INTEGER PRIMARY KEY,\n",
    "    CustomerID INTEGER,\n",
    "    OrderDate DATE,\n",
    "    TotalAmount DECIMAL(10, 2),\n",
    "    FOREIGN KEY (CustomerID) REFERENCES Customers(CustomerID)\n",
    ");\n",
    "''')\n",
    "\n",
    "# جدول OrderDetails\n",
    "cursor.execute('''\n",
    "CREATE TABLE IF NOT EXISTS OrderDetails (\n",
    "    OrderDetailID INTEGER PRIMARY KEY,\n",
    "    OrderID INTEGER,\n",
    "    ProductID INTEGER,\n",
    "    Quantity INTEGER,\n",
    "    ItemPrice DECIMAL(10, 2),\n",
    "    FOREIGN KEY (OrderID) REFERENCES Orders(OrderID),\n",
    "    FOREIGN KEY (ProductID) REFERENCES Products(ProductID)\n",
    ");\n",
    "''')\n",
    "\n",
    "conn.commit() # تغییرات رو ذخیره کن\n",
    "print(\"جدول‌ها ایجاد شدند (اگر وجود نداشتند).\")"
   ]
  },
  {
   "cell_type": "code",
   "execution_count": 28,
   "id": "a29bba52-b87e-452c-b0c2-4274f56d06b1",
   "metadata": {},
   "outputs": [
    {
     "name": "stdout",
     "output_type": "stream",
     "text": [
      "داده‌های نمونه وارد شدند (اگر وجود نداشتند).\n"
     ]
    }
   ],
   "source": [
    "# وارد کردن داده‌ها به Customers\n",
    "customers_data = [\n",
    "    (1, 'علی', 'احمدی', 'ali@example.com', 'تهران', 'ایران', '2023-01-15'),\n",
    "    (2, 'سارا', 'محمدی', 'sara@example.com', 'اصفهان', 'ایران', '2023-02-20'),\n",
    "    (3, 'جان', 'اسمیت', 'john@example.com', 'New York', 'USA', '2022-11-10'),\n",
    "    (4, 'مریم', 'حسینی', 'maryam@example.com', 'تهران', 'ایران', '2024-03-01'),\n",
    "    (5, 'لیلا', 'کریمی', None, 'شیراز', 'ایران', '2023-07-22'),\n",
    "    (6, 'پاول', 'نیکولاس', 'paul@example.com', 'Berlin', 'Germany', '2023-04-05')\n",
    "]\n",
    "cursor.executemany(\"INSERT OR IGNORE INTO Customers VALUES (?, ?, ?, ?, ?, ?, ?)\", customers_data) # IGNORE برای جلوگیری از خطای تکراری بودن PK\n",
    "\n",
    "# وارد کردن داده‌ها به Products\n",
    "products_data = [\n",
    "    (101, 'لپ تاپ', 'الکترونیک', 1200.00, 50),\n",
    "    (102, 'گوشی موبایل', 'الکترونیک', 800.00, 120),\n",
    "    (103, 'تی‌شرت', 'لباس', 25.00, 300),\n",
    "    (104, 'کتاب داستان', 'کتاب', 15.50, 500),\n",
    "    (105, 'هدفون بی‌سیم', 'الکترونیک', 150.00, 80),\n",
    "    (106, 'شلوار جین', 'لباس', 60.00, 150)\n",
    "]\n",
    "cursor.executemany(\"INSERT OR IGNORE INTO Products VALUES (?, ?, ?, ?, ?)\", products_data)\n",
    "\n",
    "# وارد کردن داده‌ها به Orders\n",
    "orders_data = [\n",
    "    (1001, 1, '2024-01-20', 1225.00),\n",
    "    (1002, 3, '2024-01-25', 800.00),\n",
    "    (1003, 1, '2024-02-10', 150.00),\n",
    "    (1004, 4, '2024-03-05', 25.00),\n",
    "    (1005, 2, '2024-04-12', 1200.00),\n",
    "    (1006, 6, '2024-05-01', 60.00),\n",
    "    (1007, 4, '2024-06-15', 800.00),\n",
    "    (1008, 5, '2024-06-20', 15.50)\n",
    "]\n",
    "cursor.executemany(\"INSERT OR IGNORE INTO Orders VALUES (?, ?, ?, ?)\", orders_data)\n",
    "\n",
    "# وارد کردن داده‌ها به OrderDetails\n",
    "order_details_data = [\n",
    "    (1, 1001, 101, 1, 1200.00),\n",
    "    (2, 1001, 103, 1, 25.00),\n",
    "    (3, 1002, 102, 1, 800.00),\n",
    "    (4, 1003, 105, 1, 150.00),\n",
    "    (5, 1004, 103, 1, 25.00),\n",
    "    (6, 1005, 101, 1, 1200.00),\n",
    "    (7, 1006, 106, 1, 60.00),\n",
    "    (8, 1007, 102, 1, 800.00),\n",
    "    (9, 1008, 104, 1, 15.50)\n",
    "]\n",
    "cursor.executemany(\"INSERT OR IGNORE INTO OrderDetails VALUES (?, ?, ?, ?, ?)\", order_details_data)\n",
    "\n",
    "conn.commit()\n",
    "print(\"داده‌های نمونه وارد شدند (اگر وجود نداشتند).\")"
   ]
  },
  {
   "cell_type": "code",
   "execution_count": 32,
   "id": "08b77633",
   "metadata": {},
   "outputs": [
    {
     "name": "stdout",
     "output_type": "stream",
     "text": [
      "جدول Employees از قبل وجود دارد و حاوی داده است.\n",
      "\n",
      "محتوای جدول Employees:\n",
      "   EmployeeID FirstName LastName         Title    HireDate  ManagerID\n",
      "0           1       علی   یزدانی     مدیر ارشد  2020-01-15        NaN\n",
      "1           2      زهرا    کریمی    مدیر پروژه  2021-03-01        1.0\n",
      "2           3      احمد    اکبری  تحلیلگر داده  2022-07-20        2.0\n",
      "3           4       ندا    جعفری     مدیر فروش  2021-05-10        1.0\n",
      "4           5      امین    رضایی  کارشناس فروش  2023-01-01        4.0\n"
     ]
    }
   ],
   "source": [
    "\n",
    "conn = sqlite3.connect('mydatabase.db')\n",
    "cursor = conn.cursor()\n",
    "\n",
    "# ایجاد جدول Employees\n",
    "create_employees_table_query = '''\n",
    "CREATE TABLE IF NOT EXISTS Employees (\n",
    "    EmployeeID INTEGER PRIMARY KEY,\n",
    "    FirstName TEXT,\n",
    "    LastName TEXT,\n",
    "    Title TEXT,\n",
    "    HireDate TEXT,\n",
    "    ManagerID INTEGER -- ManagerID به EmployeeID یک مدیر اشاره می کند\n",
    ");\n",
    "'''\n",
    "cursor.execute(create_employees_table_query)\n",
    "\n",
    "# وارد کردن داده‌های نمونه به جدول Employees\n",
    "employees_data = [\n",
    "    (1, 'علی', 'یزدانی', 'مدیر ارشد', '2020-01-15', None), # علی مدیر ارشد است و مدیری ندارد\n",
    "    (2, 'زهرا', 'کریمی', 'مدیر پروژه', '2021-03-01', 1),   # زهرا زیر نظر علی است\n",
    "    (3, 'احمد', 'اکبری', 'تحلیلگر داده', '2022-07-20', 2), # احمد زیر نظر زهرا است\n",
    "    (4, 'ندا', 'جعفری', 'مدیر فروش', '2021-05-10', 1),    # ندا زیر نظر علی است\n",
    "    (5, 'امین', 'رضایی', 'کارشناس فروش', '2023-01-01', 4)  # امین زیر نظر ندا است\n",
    "]\n",
    "\n",
    "# بررسی اینکه آیا داده‌ها قبلا وارد شده‌اند یا خیر برای جلوگیری از تکرار\n",
    "cursor.execute(\"SELECT COUNT(*) FROM Employees;\")\n",
    "if cursor.fetchone()[0] == 0: # اگر جدول خالی است، داده‌ها را وارد کن\n",
    "    cursor.executemany(\"INSERT INTO Employees (EmployeeID, FirstName, LastName, Title, HireDate, ManagerID) VALUES (?, ?, ?, ?, ?, ?);\", employees_data)\n",
    "    conn.commit()\n",
    "    print(\"جدول Employees ایجاد و با داده‌های نمونه پر شد.\")\n",
    "else:\n",
    "    print(\"جدول Employees از قبل وجود دارد و حاوی داده است.\")\n",
    "\n",
    "\n",
    "# نمایش محتویات جدول Employees برای اطمینان\n",
    "print(\"\\nمحتوای جدول Employees:\")\n",
    "df_employees = pd.read_sql_query(\"SELECT * FROM Employees;\", conn)\n",
    "print(df_employees)\n"
   ]
  },
  {
   "cell_type": "code",
   "execution_count": 30,
   "id": "c7e0928e-f4d4-46e4-a1ea-ee4ee8cc2750",
   "metadata": {},
   "outputs": [
    {
     "ename": "ProgrammingError",
     "evalue": "Cannot operate on a closed database.",
     "output_type": "error",
     "traceback": [
      "\u001b[1;31m---------------------------------------------------------------------------\u001b[0m",
      "\u001b[1;31mProgrammingError\u001b[0m                          Traceback (most recent call last)",
      "Cell \u001b[1;32mIn[30], line 3\u001b[0m\n\u001b[0;32m      1\u001b[0m \u001b[38;5;66;03m# مثال 1: تمام مشتریان رو انتخاب کن\u001b[39;00m\n\u001b[0;32m      2\u001b[0m query1 \u001b[38;5;241m=\u001b[39m \u001b[38;5;124m\"\u001b[39m\u001b[38;5;124mSELECT * FROM Customers;\u001b[39m\u001b[38;5;124m\"\u001b[39m\n\u001b[1;32m----> 3\u001b[0m df_customers \u001b[38;5;241m=\u001b[39m \u001b[43mpd\u001b[49m\u001b[38;5;241;43m.\u001b[39;49m\u001b[43mread_sql_query\u001b[49m\u001b[43m(\u001b[49m\u001b[43mquery1\u001b[49m\u001b[43m,\u001b[49m\u001b[43m \u001b[49m\u001b[43mconn\u001b[49m\u001b[43m)\u001b[49m\n\u001b[0;32m      4\u001b[0m \u001b[38;5;28mprint\u001b[39m(\u001b[38;5;124m\"\u001b[39m\u001b[38;5;124mتمام مشتریان:\u001b[39m\u001b[38;5;124m\"\u001b[39m)\n\u001b[0;32m      5\u001b[0m \u001b[38;5;28mprint\u001b[39m(df_customers)\n",
      "File \u001b[1;32mc:\\Users\\Motale Sharif - Ali\\AppData\\Local\\Programs\\Python\\Python313\\Lib\\site-packages\\pandas\\io\\sql.py:526\u001b[0m, in \u001b[0;36mread_sql_query\u001b[1;34m(sql, con, index_col, coerce_float, params, parse_dates, chunksize, dtype, dtype_backend)\u001b[0m\n\u001b[0;32m    523\u001b[0m \u001b[38;5;28;01massert\u001b[39;00m dtype_backend \u001b[38;5;129;01mis\u001b[39;00m \u001b[38;5;129;01mnot\u001b[39;00m lib\u001b[38;5;241m.\u001b[39mno_default\n\u001b[0;32m    525\u001b[0m \u001b[38;5;28;01mwith\u001b[39;00m pandasSQL_builder(con) \u001b[38;5;28;01mas\u001b[39;00m pandas_sql:\n\u001b[1;32m--> 526\u001b[0m     \u001b[38;5;28;01mreturn\u001b[39;00m \u001b[43mpandas_sql\u001b[49m\u001b[38;5;241;43m.\u001b[39;49m\u001b[43mread_query\u001b[49m\u001b[43m(\u001b[49m\n\u001b[0;32m    527\u001b[0m \u001b[43m        \u001b[49m\u001b[43msql\u001b[49m\u001b[43m,\u001b[49m\n\u001b[0;32m    528\u001b[0m \u001b[43m        \u001b[49m\u001b[43mindex_col\u001b[49m\u001b[38;5;241;43m=\u001b[39;49m\u001b[43mindex_col\u001b[49m\u001b[43m,\u001b[49m\n\u001b[0;32m    529\u001b[0m \u001b[43m        \u001b[49m\u001b[43mparams\u001b[49m\u001b[38;5;241;43m=\u001b[39;49m\u001b[43mparams\u001b[49m\u001b[43m,\u001b[49m\n\u001b[0;32m    530\u001b[0m \u001b[43m        \u001b[49m\u001b[43mcoerce_float\u001b[49m\u001b[38;5;241;43m=\u001b[39;49m\u001b[43mcoerce_float\u001b[49m\u001b[43m,\u001b[49m\n\u001b[0;32m    531\u001b[0m \u001b[43m        \u001b[49m\u001b[43mparse_dates\u001b[49m\u001b[38;5;241;43m=\u001b[39;49m\u001b[43mparse_dates\u001b[49m\u001b[43m,\u001b[49m\n\u001b[0;32m    532\u001b[0m \u001b[43m        \u001b[49m\u001b[43mchunksize\u001b[49m\u001b[38;5;241;43m=\u001b[39;49m\u001b[43mchunksize\u001b[49m\u001b[43m,\u001b[49m\n\u001b[0;32m    533\u001b[0m \u001b[43m        \u001b[49m\u001b[43mdtype\u001b[49m\u001b[38;5;241;43m=\u001b[39;49m\u001b[43mdtype\u001b[49m\u001b[43m,\u001b[49m\n\u001b[0;32m    534\u001b[0m \u001b[43m        \u001b[49m\u001b[43mdtype_backend\u001b[49m\u001b[38;5;241;43m=\u001b[39;49m\u001b[43mdtype_backend\u001b[49m\u001b[43m,\u001b[49m\n\u001b[0;32m    535\u001b[0m \u001b[43m    \u001b[49m\u001b[43m)\u001b[49m\n",
      "File \u001b[1;32mc:\\Users\\Motale Sharif - Ali\\AppData\\Local\\Programs\\Python\\Python313\\Lib\\site-packages\\pandas\\io\\sql.py:2738\u001b[0m, in \u001b[0;36mSQLiteDatabase.read_query\u001b[1;34m(self, sql, index_col, coerce_float, parse_dates, params, chunksize, dtype, dtype_backend)\u001b[0m\n\u001b[0;32m   2727\u001b[0m \u001b[38;5;28;01mdef\u001b[39;00m\u001b[38;5;250m \u001b[39m\u001b[38;5;21mread_query\u001b[39m(\n\u001b[0;32m   2728\u001b[0m     \u001b[38;5;28mself\u001b[39m,\n\u001b[0;32m   2729\u001b[0m     sql,\n\u001b[1;32m   (...)\u001b[0m\n\u001b[0;32m   2736\u001b[0m     dtype_backend: DtypeBackend \u001b[38;5;241m|\u001b[39m Literal[\u001b[38;5;124m\"\u001b[39m\u001b[38;5;124mnumpy\u001b[39m\u001b[38;5;124m\"\u001b[39m] \u001b[38;5;241m=\u001b[39m \u001b[38;5;124m\"\u001b[39m\u001b[38;5;124mnumpy\u001b[39m\u001b[38;5;124m\"\u001b[39m,\n\u001b[0;32m   2737\u001b[0m ) \u001b[38;5;241m-\u001b[39m\u001b[38;5;241m>\u001b[39m DataFrame \u001b[38;5;241m|\u001b[39m Iterator[DataFrame]:\n\u001b[1;32m-> 2738\u001b[0m     cursor \u001b[38;5;241m=\u001b[39m \u001b[38;5;28;43mself\u001b[39;49m\u001b[38;5;241;43m.\u001b[39;49m\u001b[43mexecute\u001b[49m\u001b[43m(\u001b[49m\u001b[43msql\u001b[49m\u001b[43m,\u001b[49m\u001b[43m \u001b[49m\u001b[43mparams\u001b[49m\u001b[43m)\u001b[49m\n\u001b[0;32m   2739\u001b[0m     columns \u001b[38;5;241m=\u001b[39m [col_desc[\u001b[38;5;241m0\u001b[39m] \u001b[38;5;28;01mfor\u001b[39;00m col_desc \u001b[38;5;129;01min\u001b[39;00m cursor\u001b[38;5;241m.\u001b[39mdescription]\n\u001b[0;32m   2741\u001b[0m     \u001b[38;5;28;01mif\u001b[39;00m chunksize \u001b[38;5;129;01mis\u001b[39;00m \u001b[38;5;129;01mnot\u001b[39;00m \u001b[38;5;28;01mNone\u001b[39;00m:\n",
      "File \u001b[1;32mc:\\Users\\Motale Sharif - Ali\\AppData\\Local\\Programs\\Python\\Python313\\Lib\\site-packages\\pandas\\io\\sql.py:2672\u001b[0m, in \u001b[0;36mSQLiteDatabase.execute\u001b[1;34m(self, sql, params)\u001b[0m\n\u001b[0;32m   2670\u001b[0m     \u001b[38;5;28;01mraise\u001b[39;00m \u001b[38;5;167;01mTypeError\u001b[39;00m(\u001b[38;5;124m\"\u001b[39m\u001b[38;5;124mQuery must be a string unless using sqlalchemy.\u001b[39m\u001b[38;5;124m\"\u001b[39m)\n\u001b[0;32m   2671\u001b[0m args \u001b[38;5;241m=\u001b[39m [] \u001b[38;5;28;01mif\u001b[39;00m params \u001b[38;5;129;01mis\u001b[39;00m \u001b[38;5;28;01mNone\u001b[39;00m \u001b[38;5;28;01melse\u001b[39;00m [params]\n\u001b[1;32m-> 2672\u001b[0m cur \u001b[38;5;241m=\u001b[39m \u001b[38;5;28;43mself\u001b[39;49m\u001b[38;5;241;43m.\u001b[39;49m\u001b[43mcon\u001b[49m\u001b[38;5;241;43m.\u001b[39;49m\u001b[43mcursor\u001b[49m\u001b[43m(\u001b[49m\u001b[43m)\u001b[49m\n\u001b[0;32m   2673\u001b[0m \u001b[38;5;28;01mtry\u001b[39;00m:\n\u001b[0;32m   2674\u001b[0m     cur\u001b[38;5;241m.\u001b[39mexecute(sql, \u001b[38;5;241m*\u001b[39margs)\n",
      "\u001b[1;31mProgrammingError\u001b[0m: Cannot operate on a closed database."
     ]
    }
   ],
   "source": [
    "# مثال 1: تمام مشتریان رو انتخاب کن\n",
    "query1 = \"SELECT * FROM Customers;\"\n",
    "df_customers = pd.read_sql_query(query1, conn)\n",
    "print(\"تمام مشتریان:\")\n",
    "print(df_customers)\n",
    "print(\"-\" * 30)"
   ]
  },
  {
   "cell_type": "code",
   "execution_count": null,
   "id": "9ecb6d29-ab43-4e86-87e1-2c4691638be6",
   "metadata": {},
   "outputs": [
    {
     "name": "stdout",
     "output_type": "stream",
     "text": [
      "محصولات الکترونیک:\n",
      "    ProductName  UnitPrice\n",
      "0        لپ تاپ       1200\n",
      "1   گوشی موبایل        800\n",
      "2  هدفون بی‌سیم        150\n",
      "------------------------------\n"
     ]
    }
   ],
   "source": [
    "# مثال 2: محصولات الکترونیک\n",
    "query2 = \"SELECT ProductName, UnitPrice FROM Products WHERE Category = 'الکترونیک';\"\n",
    "df_electronics = pd.read_sql_query(query2, conn)\n",
    "print(\"محصولات الکترونیک:\")\n",
    "print(df_electronics)\n",
    "print(\"-\" * 30)"
   ]
  },
  {
   "cell_type": "code",
   "execution_count": null,
   "id": "03839917-18e2-47dc-89d3-1aecd13b8483",
   "metadata": {},
   "outputs": [
    {
     "name": "stdout",
     "output_type": "stream",
     "text": [
      "سفارشات با نام مشتری:\n",
      "   OrderID CustomerFullName   OrderDate  TotalAmount\n",
      "0     1001        علی احمدی  2024-01-20       1225.0\n",
      "1     1002        جان اسمیت  2024-01-25        800.0\n",
      "2     1003        علی احمدی  2024-02-10        150.0\n",
      "3     1004       مریم حسینی  2024-03-05         25.0\n",
      "4     1005       سارا محمدی  2024-04-12       1200.0\n",
      "5     1006     پاول نیکولاس  2024-05-01         60.0\n",
      "6     1007       مریم حسینی  2024-06-15        800.0\n",
      "7     1008       لیلا کریمی  2024-06-20         15.5\n",
      "------------------------------\n"
     ]
    }
   ],
   "source": [
    "# مثال 3: جوین ساده - سفارشات همراه با نام مشتری\n",
    "query3 = \"\"\"\n",
    "SELECT\n",
    "    o.OrderID,\n",
    "    c.FirstName || ' ' || c.LastName AS CustomerFullName, -- ترکیب نام و نام خانوادگی\n",
    "    o.OrderDate,\n",
    "    o.TotalAmount\n",
    "FROM Orders AS o\n",
    "INNER JOIN Customers AS c ON o.CustomerID = c.CustomerID;\n",
    "\"\"\"\n",
    "df_orders_customers = pd.read_sql_query(query3, conn)\n",
    "print(\"سفارشات با نام مشتری:\")\n",
    "print(df_orders_customers)\n",
    "print(\"-\" * 30)"
   ]
  },
  {
   "cell_type": "code",
   "execution_count": null,
   "id": "09cf4131-00e1-4522-afde-cb4a6971bd97",
   "metadata": {},
   "outputs": [
    {
     "name": "stdout",
     "output_type": "stream",
     "text": [
      "شهرهایی با بیش از یک مشتری:\n",
      "    City  NumberOfCustomers\n",
      "0  تهران                  2\n",
      "------------------------------\n"
     ]
    }
   ],
   "source": [
    "\n",
    "# مثال 4: استفاده از GROUP BY و HAVING\n",
    "query4 = \"\"\"\n",
    "SELECT\n",
    "    c.City,\n",
    "    COUNT(c.CustomerID) AS NumberOfCustomers\n",
    "FROM Customers AS c\n",
    "GROUP BY c.City\n",
    "HAVING COUNT(c.CustomerID) > 1; -- شهرهایی با بیش از 1 مشتری\n",
    "\"\"\"\n",
    "df_city_counts = pd.read_sql_query(query4, conn)\n",
    "print(\"شهرهایی با بیش از یک مشتری:\")\n",
    "print(df_city_counts)\n",
    "print(\"-\" * 30)"
   ]
  },
  {
   "cell_type": "markdown",
   "id": "1dec5e6a-2b43-4b9d-b90a-073cb6c1bbac",
   "metadata": {},
   "source": [
    "# مسئله شماره ۱: لیست کامل مشتریان\n",
    "## صورت مسئله:\n",
    "### یک لیست از نام و نام خانوادگی کامل مشتریان رو همراه با شهر و کشور اون‌ها به دست بیارید. لیست نهایی باید بر اساس کشور (صعودی) و سپس نام خانوادگی (صعودی) مرتب شده باشه."
   ]
  },
  {
   "cell_type": "code",
   "execution_count": null,
   "id": "1235c89e-f787-4acb-b380-187541919ec8",
   "metadata": {},
   "outputs": [
    {
     "name": "stdout",
     "output_type": "stream",
     "text": [
      "   Country      City LastName FirstName      FullName\n",
      "0  Germany    Berlin  نیکولاس      پاول  پاول نیکولاس\n",
      "1      USA  New York    اسمیت       جان     جان اسمیت\n",
      "2    ایران     تهران    احمدی       علی     علی احمدی\n",
      "3    ایران     تهران    حسینی      مریم    مریم حسینی\n",
      "4    ایران    اصفهان    محمدی      سارا    سارا محمدی\n",
      "5    ایران     شیراز    کریمی      لیلا    لیلا کریمی\n"
     ]
    }
   ],
   "source": [
    "question1 = '''\n",
    "select \n",
    "    Country , \n",
    "    City,\n",
    "    LastName,\n",
    "    FirstName,\n",
    "    FirstName || ' ' || LastName as FullName\n",
    "from customers\n",
    "order by\n",
    "    Country asc,\n",
    "    LastName asc\n",
    "'''\n",
    "df_customers = pd.read_sql_query(question1 , conn)\n",
    "print(df_customers)\n"
   ]
  },
  {
   "cell_type": "markdown",
   "id": "0e1e94b3-54f7-4573-8c72-cec5b4b9a4ac",
   "metadata": {},
   "source": [
    "# مسئله شماره ۲: محصولات الکترونیک\n",
    "## صورت مسئله:\n",
    "### نام محصولات الکترونیک (Category = 'الکترونیک') رو به همراه قیمت واحد اون‌ها به دست بیارید. لیست نهایی باید بر اساس گران‌ترین محصول (قیمت بالا به پایین) مرتب شده باشه."
   ]
  },
  {
   "cell_type": "code",
   "execution_count": null,
   "id": "ce996b85-36bb-4f40-97f4-6d20d3111d9c",
   "metadata": {},
   "outputs": [
    {
     "name": "stdout",
     "output_type": "stream",
     "text": [
      "    Category  UnitPrice   ProductName\n",
      "0  الکترونیک       1200        لپ تاپ\n",
      "1  الکترونیک        800   گوشی موبایل\n",
      "2  الکترونیک        150  هدفون بی‌سیم\n"
     ]
    }
   ],
   "source": [
    "question2 = '''\n",
    "select \n",
    "    Category,\n",
    "    UnitPrice,\n",
    "    ProductName\n",
    "from Products\n",
    "where category = 'الکترونیک'\n",
    "order by UnitPrice desc;'''\n",
    "df_category = pd.read_sql_query(question2 , conn)\n",
    "print(df_category)"
   ]
  },
  {
   "cell_type": "markdown",
   "id": "95c40c4d",
   "metadata": {},
   "source": [
    "# مسئله شماره ۳\n",
    "## نام و نام خانوادگی مشتریانی که حداقل یک سفارش ثبت کرده‌اند را به دست آورید. لیست نهایی نباید شامل نام‌های تکراری باشد و بر اساس نام خانوادگی مشتریان (صعودی) مرتب شود."
   ]
  },
  {
   "cell_type": "markdown",
   "id": "6662b2bb",
   "metadata": {},
   "source": [
    "## مسئله شماره ۴: تعداد سفارشات هر مشتری\n",
    "### تعداد کل سفارشات ثبت شده توسط هر مشتری را به دست آورید. لیست نهایی باید شامل نام و نام خانوادگی مشتری و تعداد سفارشات او باشد. نتایج را بر اساس بیشترین تعداد سفارش (بالا به پایین) مرتب کنید. فقط مشتریانی را در نظر بگیرید که حداقل یک سفارش ثبت کرده‌اند."
   ]
  },
  {
   "cell_type": "code",
   "execution_count": null,
   "id": "166c7adf",
   "metadata": {},
   "outputs": [
    {
     "name": "stdout",
     "output_type": "stream",
     "text": [
      "  FirstName LastName\n",
      "0       علی    احمدی\n",
      "1       جان    اسمیت\n",
      "2      مریم    حسینی\n",
      "3      سارا    محمدی\n",
      "4      پاول  نیکولاس\n",
      "5      لیلا    کریمی\n"
     ]
    }
   ],
   "source": [
    "question3 = '''\n",
    "SELECT DISTINCT \n",
    "    c.firstname,\n",
    "    c.lastname\n",
    "FROM\n",
    "    customers AS c\n",
    "INNER JOIN\n",
    "    orders AS o ON\n",
    "    c.customerid = o.customerid\n",
    "ORDER BY\n",
    "    c.lastname ASC;\n",
    "'''\n",
    "df_customers_q3 = pd.read_sql_query(question3 , conn)\n",
    "print(df_customers_q3)"
   ]
  },
  {
   "cell_type": "markdown",
   "id": "7f4e0299",
   "metadata": {},
   "source": [
    "## مسئله شماره ۴: تعداد سفارشات هر مشتری\n",
    "### تعداد کل سفارشات ثبت شده توسط هر مشتری را به دست آورید. لیست نهایی باید شامل نام و نام خانوادگی مشتری و تعداد سفارشات او باشد. نتایج را بر اساس بیشترین تعداد سفارش (بالا به پایین) مرتب کنید. فقط مشتریانی را در نظر بگیرید که حداقل یک سفارش ثبت کرده‌اند."
   ]
  },
  {
   "cell_type": "code",
   "execution_count": null,
   "id": "de23b340-fd75-451f-bbff-c351947df13d",
   "metadata": {
    "tags": [
     "parameters"
    ]
   },
   "outputs": [
    {
     "name": "stdout",
     "output_type": "stream",
     "text": [
      "  FirstName LastName  TotalOrders\n",
      "0       علی    احمدی            2\n",
      "1      مریم    حسینی            2\n",
      "2      سارا    محمدی            1\n",
      "3       جان    اسمیت            1\n",
      "4      لیلا    کریمی            1\n",
      "5      پاول  نیکولاس            1\n"
     ]
    }
   ],
   "source": [
    "query4 = '''\n",
    "select\n",
    "    c.FirstName,\n",
    "    c.LastName,\n",
    "   count(o.OrderId) AS TotalOrders\n",
    "from customers as c\n",
    "inner join orders as o on \n",
    "c.CustomerId = o.CustomerId\n",
    "GROUP BY\n",
    "    C.CustomerID, C.FirstName, C.LastName\n",
    "order by\n",
    "    TotalOrders DESC;\n",
    "'''\n",
    "df_customers_q4 = pd.read_sql_query(query4 , conn)\n",
    "print(df_customers_q4)"
   ]
  },
  {
   "cell_type": "markdown",
   "id": "e9dce4c6",
   "metadata": {},
   "source": [
    "## مسئله شماره ۵: پیدا کردن کارمندان و مدیرانشان (Self-Join)\n",
    "### فرض کنید جدولی به نام Employees داریم که شامل اطلاعات کارمندان است. این جدول دارای ستون‌های EmployeeID (شناسه کارمند)، FirstName (نام)، LastName (نام خانوادگی)، و ManagerID (شناسه مدیر آن کارمند) است.\n",
    "### لیستی از تمام کارمندان و نام کامل مدیران مستقیم آن‌ها را به دست آورید. اگر کارمندی مدیر ندارد (یعنی ManagerID آن NULL است)، آن کارمند را در نتایج نمایش ندهید. نتایج را بر اساس نام خانوادگی کارمند (صعودی) مرتب کنید."
   ]
  },
  {
   "cell_type": "code",
   "execution_count": 33,
   "id": "35e4b815",
   "metadata": {},
   "outputs": [
    {
     "name": "stdout",
     "output_type": "stream",
     "text": [
      "  EmployeeFirstName EmployeeLastName ManagerFirstName ManagerLastName\n",
      "0              احمد            اکبری             زهرا           کریمی\n",
      "1               ندا            جعفری              علی          یزدانی\n",
      "2              امین            رضایی              ندا           جعفری\n",
      "3              زهرا            کریمی              علی          یزدانی\n"
     ]
    }
   ],
   "source": [
    "query5 = '''\n",
    "select\n",
    "    E.FirstName AS EmployeeFirstName,\n",
    "    E.LastName AS EmployeeLastName,\n",
    "    M.FirstName AS ManagerFirstName,\n",
    "    M.LastName AS ManagerLastName\n",
    "from \n",
    "    Employees AS E\n",
    "INNER JOIN\n",
    "    Employees AS M ON\n",
    "    E.ManagerID = M.EmployeeID\n",
    "ORDER BY\n",
    "    E.LastName ASC;   \n",
    "'''\n",
    "df_employees_q5 = pd.read_sql_query(query5 , conn)\n",
    "print(df_employees_q5)"
   ]
  }
 ],
 "metadata": {
  "kernelspec": {
   "display_name": "Python 3",
   "language": "python",
   "name": "python3"
  },
  "language_info": {
   "codemirror_mode": {
    "name": "ipython",
    "version": 3
   },
   "file_extension": ".py",
   "mimetype": "text/x-python",
   "name": "python",
   "nbconvert_exporter": "python",
   "pygments_lexer": "ipython3",
   "version": "3.13.1"
  }
 },
 "nbformat": 4,
 "nbformat_minor": 5
}
